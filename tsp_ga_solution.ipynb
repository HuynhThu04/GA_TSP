{
 "cells": [
  {
   "cell_type": "markdown",
   "id": "6de55628",
   "metadata": {},
   "source": [
    "# Bài toán Người Du Lịch (TSP) dùng Genetic Algorithm\n",
    "Sử dụng dữ liệu từ `results.csv`"
   ]
  },
  {
   "cell_type": "code",
   "execution_count": null,
   "id": "f90281dc",
   "metadata": {},
   "outputs": [],
   "source": [
    "import pandas as pd\n",
    "import numpy as np\n",
    "import random\n",
    "import math\n",
    "from haversine import haversine, Unit\n",
    "import matplotlib.pyplot as plt\n"
   ]
  },
  {
   "cell_type": "code",
   "execution_count": null,
   "id": "67edade1",
   "metadata": {},
   "outputs": [],
   "source": [
    "# Đọc dữ liệu từ file CSV\n",
    "df = pd.read_csv('results.csv')\n",
    "df.head()\n"
   ]
  },
  {
   "cell_type": "code",
   "execution_count": null,
   "id": "baad6e96",
   "metadata": {},
   "outputs": [],
   "source": [
    "# Tính ma trận khoảng cách giữa các địa điểm\n",
    "locations = list(zip(df['Latitude'], df['Longitude']))\n",
    "num_locations = len(locations)\n",
    "\n",
    "def compute_distance_matrix(locations):\n",
    "    dist_matrix = np.zeros((num_locations, num_locations))\n",
    "    for i in range(num_locations):\n",
    "        for j in range(num_locations):\n",
    "            if i != j:\n",
    "                dist_matrix[i][j] = haversine(locations[i], locations[j])\n",
    "    return dist_matrix\n",
    "\n",
    "distance_matrix = compute_distance_matrix(locations)\n"
   ]
  },
  {
   "cell_type": "code",
   "execution_count": null,
   "id": "889d7728",
   "metadata": {},
   "outputs": [],
   "source": [
    "# Hàm tính tổng khoảng cách của một hành trình\n",
    "def total_distance(tour, distance_matrix):\n",
    "    dist = 0\n",
    "    for i in range(len(tour)):\n",
    "        dist += distance_matrix[tour[i]][tour[(i + 1) % len(tour)]]\n",
    "    return dist\n"
   ]
  },
  {
   "cell_type": "code",
   "execution_count": null,
   "id": "ea6a78b0",
   "metadata": {},
   "outputs": [],
   "source": [
    "# Khởi tạo quần thể ban đầu\n",
    "def create_initial_population(pop_size, num_locations):\n",
    "    population = []\n",
    "    for _ in range(pop_size):\n",
    "        tour = list(range(num_locations))\n",
    "        random.shuffle(tour)\n",
    "        population.append(tour)\n",
    "    return population\n"
   ]
  },
  {
   "cell_type": "code",
   "execution_count": null,
   "id": "2b82dc8b",
   "metadata": {},
   "outputs": [],
   "source": [
    "# Chọn lọc: tournament selection\n",
    "def selection(population, distance_matrix, k=3):\n",
    "    selected = random.sample(population, k)\n",
    "    selected.sort(key=lambda x: total_distance(x, distance_matrix))\n",
    "    return selected[0]\n"
   ]
  },
  {
   "cell_type": "code",
   "execution_count": null,
   "id": "9aecaaa3",
   "metadata": {},
   "outputs": [],
   "source": [
    "# Lai ghép: Order Crossover (OX)\n",
    "def crossover(parent1, parent2):\n",
    "    size = len(parent1)\n",
    "    start, end = sorted(random.sample(range(size), 2))\n",
    "    child = [None] * size\n",
    "    child[start:end+1] = parent1[start:end+1]\n",
    "    fill = [item for item in parent2 if item not in child]\n",
    "    pointer = 0\n",
    "    for i in range(size):\n",
    "        if child[i] is None:\n",
    "            child[i] = fill[pointer]\n",
    "            pointer += 1\n",
    "    return child\n"
   ]
  },
  {
   "cell_type": "code",
   "execution_count": null,
   "id": "8601e7ad",
   "metadata": {},
   "outputs": [],
   "source": [
    "# Đột biến: hoán đổi vị trí 2 điểm\n",
    "def mutate(tour, mutation_rate=0.01):\n",
    "    for i in range(len(tour)):\n",
    "        if random.random() < mutation_rate:\n",
    "            j = random.randint(0, len(tour) - 1)\n",
    "            tour[i], tour[j] = tour[j], tour[i]\n",
    "    return tour\n"
   ]
  },
  {
   "cell_type": "code",
   "execution_count": null,
   "id": "d175c222",
   "metadata": {},
   "outputs": [],
   "source": [
    "# GA chính\n",
    "def genetic_algorithm(distance_matrix, pop_size=100, generations=500, mutation_rate=0.01):\n",
    "    population = create_initial_population(pop_size, len(distance_matrix))\n",
    "    best_distance = float('inf')\n",
    "    best_solution = None\n",
    "    history = []\n",
    "\n",
    "    for gen in range(generations):\n",
    "        new_population = []\n",
    "        for _ in range(pop_size):\n",
    "            p1 = selection(population, distance_matrix)\n",
    "            p2 = selection(population, distance_matrix)\n",
    "            child = crossover(p1, p2)\n",
    "            child = mutate(child, mutation_rate)\n",
    "            new_population.append(child)\n",
    "\n",
    "        population = new_population\n",
    "        gen_best = min(population, key=lambda x: total_distance(x, distance_matrix))\n",
    "        dist = total_distance(gen_best, distance_matrix)\n",
    "        history.append(dist)\n",
    "        if dist < best_distance:\n",
    "            best_distance = dist\n",
    "            best_solution = gen_best\n",
    "\n",
    "    return best_solution, best_distance, history\n"
   ]
  },
  {
   "cell_type": "code",
   "execution_count": null,
   "id": "0f9c46e2",
   "metadata": {},
   "outputs": [],
   "source": [
    "# Chạy thuật toán\n",
    "best_tour, best_dist, history = genetic_algorithm(distance_matrix)\n",
    "\n",
    "print(\"Tổng quãng đường ngắn nhất:\", round(best_dist, 2), \"km\")\n",
    "print(\"Hành trình tốt nhất:\", best_tour)\n",
    "\n",
    "# Vẽ tiến trình tối ưu\n",
    "plt.plot(history)\n",
    "plt.xlabel(\"Thế hệ\")\n",
    "plt.ylabel(\"Tổng quãng đường\")\n",
    "plt.title(\"Tiến trình tối ưu GA\")\n",
    "plt.grid(True)\n",
    "plt.show()\n"
   ]
  }
 ],
 "metadata": {},
 "nbformat": 4,
 "nbformat_minor": 5
}